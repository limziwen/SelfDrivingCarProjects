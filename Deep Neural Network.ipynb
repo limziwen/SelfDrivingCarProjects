{
 "cells": [
  {
   "cell_type": "markdown",
   "metadata": {},
   "source": [
    "import numpy as np\n",
    "import matplotlib.pyplot as plt\n",
    "import keras \n",
    "from sklearn import datasets\n",
    "from keras.models import Sequential\n",
    "from keras.layers import Dense\n",
    "from keras.optimizers import Adam\n",
    "np.random.seed(0)\n",
    "\n",
    "n_pts = 500;\n",
    "#X stores data points \n",
    "#y stores labels, 1 is inner circle, 0 is outer circle\n",
    "X, y = datasets.make_circles(n_samples=n_pts, random_state = 123, noise=0.1, factor = 0.2)\n",
    "print(X)\n",
    "print(y)\n",
    "\n"
   ]
  },
  {
   "cell_type": "code",
   "execution_count": 10,
   "metadata": {},
   "outputs": [
    {
     "data": {
      "text/plain": [
       "<matplotlib.collections.PathCollection at 0x1c4575f99e8>"
      ]
     },
     "execution_count": 10,
     "metadata": {},
     "output_type": "execute_result"
    },
    {
     "data": {
      "image/png": "[encoded data removed]",
      "text/plain": [
       "<Figure size 432x288 with 1 Axes>"
      ]
     },
     "metadata": {
      "needs_background": "light"
     },
     "output_type": "display_data"
    }
   ],
   "source": [
    "plt.scatter(X[y==0, 0], X[y==0, 1])\n",
    "\n",
    "plt.scatter(X[y==1, 0], X[y==1, 1])"
   ]
  },
  {
   "cell_type": "code",
   "execution_count": 37,
   "metadata": {},
   "outputs": [],
   "source": [
    "model = Sequential()\n",
    "model.add(Dense(4, input_shape=(2,), activation='sigmoid'))\n",
    "#1. nodes in first hidden layer\n",
    "#2. input nodes\n",
    "#3 activation function\n",
    "model.add(Dense(1, activation='sigmoid'))\n",
    "#1. output layer\n",
    "model.compile(Adam(lr=0.01), 'binary_crossentropy', metrics = ['accuracy'])\n"
   ]
  },
  {
   "cell_type": "code",
   "execution_count": 57,
   "metadata": {},
   "outputs": [
    {
     "name": "stdout",
     "output_type": "stream",
     "text": [
      "Epoch 1/60\n",
      " - 0s - loss: 1.1215e-05 - acc: 1.0000\n",
      "Epoch 2/60\n",
      " - 0s - loss: 1.1344e-05 - acc: 1.0000\n",
      "Epoch 3/60\n",
      " - 0s - loss: 1.1099e-05 - acc: 1.0000\n",
      "Epoch 4/60\n",
      " - 0s - loss: 1.0998e-05 - acc: 1.0000\n",
      "Epoch 5/60\n",
      " - 0s - loss: 1.1014e-05 - acc: 1.0000\n",
      "Epoch 6/60\n",
      " - 0s - loss: 1.0787e-05 - acc: 1.0000\n",
      "Epoch 7/60\n",
      " - 0s - loss: 1.1024e-05 - acc: 1.0000\n",
      "Epoch 8/60\n",
      " - 0s - loss: 1.0781e-05 - acc: 1.0000\n",
      "Epoch 9/60\n",
      " - 0s - loss: 1.0789e-05 - acc: 1.0000\n",
      "Epoch 10/60\n",
      " - 0s - loss: 1.0610e-05 - acc: 1.0000\n",
      "Epoch 11/60\n",
      " - 0s - loss: 1.0442e-05 - acc: 1.0000\n",
      "Epoch 12/60\n",
      " - 0s - loss: 1.0587e-05 - acc: 1.0000\n",
      "Epoch 13/60\n",
      " - 0s - loss: 1.0382e-05 - acc: 1.0000\n",
      "Epoch 14/60\n",
      " - 0s - loss: 1.0407e-05 - acc: 1.0000\n",
      "Epoch 15/60\n",
      " - 0s - loss: 1.0575e-05 - acc: 1.0000\n",
      "Epoch 16/60\n",
      " - 0s - loss: 1.0232e-05 - acc: 1.0000\n",
      "Epoch 17/60\n",
      " - 0s - loss: 1.0120e-05 - acc: 1.0000\n",
      "Epoch 18/60\n",
      " - 0s - loss: 1.0040e-05 - acc: 1.0000\n",
      "Epoch 19/60\n",
      " - 0s - loss: 1.0347e-05 - acc: 1.0000\n",
      "Epoch 20/60\n",
      " - 0s - loss: 1.0059e-05 - acc: 1.0000\n",
      "Epoch 21/60\n",
      " - 0s - loss: 1.0167e-05 - acc: 1.0000\n",
      "Epoch 22/60\n",
      " - 0s - loss: 9.8204e-06 - acc: 1.0000\n",
      "Epoch 23/60\n",
      " - 0s - loss: 9.8349e-06 - acc: 1.0000\n",
      "Epoch 24/60\n",
      " - 0s - loss: 9.9220e-06 - acc: 1.0000\n",
      "Epoch 25/60\n",
      " - 0s - loss: 9.7233e-06 - acc: 1.0000\n",
      "Epoch 26/60\n",
      " - 0s - loss: 9.5450e-06 - acc: 1.0000\n",
      "Epoch 27/60\n",
      " - 0s - loss: 9.6049e-06 - acc: 1.0000\n",
      "Epoch 28/60\n",
      " - 0s - loss: 9.5460e-06 - acc: 1.0000\n",
      "Epoch 29/60\n",
      " - 0s - loss: 9.3186e-06 - acc: 1.0000\n",
      "Epoch 30/60\n",
      " - 0s - loss: 9.4470e-06 - acc: 1.0000\n",
      "Epoch 31/60\n",
      " - 0s - loss: 9.3416e-06 - acc: 1.0000\n",
      "Epoch 32/60\n",
      " - 0s - loss: 9.1994e-06 - acc: 1.0000\n",
      "Epoch 33/60\n",
      " - 0s - loss: 9.1418e-06 - acc: 1.0000\n",
      "Epoch 34/60\n",
      " - 0s - loss: 9.3550e-06 - acc: 1.0000\n",
      "Epoch 35/60\n",
      " - 0s - loss: 9.1064e-06 - acc: 1.0000\n",
      "Epoch 36/60\n",
      " - 0s - loss: 8.9376e-06 - acc: 1.0000\n",
      "Epoch 37/60\n",
      " - 0s - loss: 8.9179e-06 - acc: 1.0000\n",
      "Epoch 38/60\n",
      " - 0s - loss: 9.0430e-06 - acc: 1.0000\n",
      "Epoch 39/60\n",
      " - 0s - loss: 8.8019e-06 - acc: 1.0000\n",
      "Epoch 40/60\n",
      " - 0s - loss: 8.8647e-06 - acc: 1.0000\n",
      "Epoch 41/60\n",
      " - 0s - loss: 8.8546e-06 - acc: 1.0000\n",
      "Epoch 42/60\n",
      " - 0s - loss: 8.7764e-06 - acc: 1.0000\n",
      "Epoch 43/60\n",
      " - 0s - loss: 8.9350e-06 - acc: 1.0000\n",
      "Epoch 44/60\n",
      " - 0s - loss: 8.6017e-06 - acc: 1.0000\n",
      "Epoch 45/60\n",
      " - 0s - loss: 8.5165e-06 - acc: 1.0000\n",
      "Epoch 46/60\n",
      " - 0s - loss: 8.5592e-06 - acc: 1.0000\n",
      "Epoch 47/60\n",
      " - 0s - loss: 8.3718e-06 - acc: 1.0000\n",
      "Epoch 48/60\n",
      " - 0s - loss: 8.5510e-06 - acc: 1.0000\n",
      "Epoch 49/60\n",
      " - 0s - loss: 8.1629e-06 - acc: 1.0000\n",
      "Epoch 50/60\n",
      " - 0s - loss: 8.2741e-06 - acc: 1.0000\n",
      "Epoch 51/60\n",
      " - 0s - loss: 8.3310e-06 - acc: 1.0000\n",
      "Epoch 52/60\n",
      " - 0s - loss: 8.1404e-06 - acc: 1.0000\n",
      "Epoch 53/60\n",
      " - 0s - loss: 8.1005e-06 - acc: 1.0000\n",
      "Epoch 54/60\n",
      " - 0s - loss: 8.1441e-06 - acc: 1.0000\n",
      "Epoch 55/60\n",
      " - 0s - loss: 8.1294e-06 - acc: 1.0000\n",
      "Epoch 56/60\n",
      " - 0s - loss: 7.8612e-06 - acc: 1.0000\n",
      "Epoch 57/60\n",
      " - 0s - loss: 7.8939e-06 - acc: 1.0000\n",
      "Epoch 58/60\n",
      " - 0s - loss: 7.9495e-06 - acc: 1.0000\n",
      "Epoch 59/60\n",
      " - 0s - loss: 7.9208e-06 - acc: 1.0000\n",
      "Epoch 60/60\n",
      " - 0s - loss: 7.7176e-06 - acc: 1.0000\n"
     ]
    }
   ],
   "source": [
    "h = model.fit(x=X, y=y, verbose = 2, batch_size =25, epochs=60, shuffle='true')\n",
    "#epoch = all the data run once\n",
    "#25 iterations to complete 1 epoch, with batch size of 20\n",
    "#number of epochs: too high can cause overfitting"
   ]
  },
  {
   "cell_type": "code",
   "execution_count": 48,
   "metadata": {},
   "outputs": [
    {
     "data": {
      "text/plain": [
       "Text(0.5, 1.0, 'accuracy')"
      ]
     },
     "execution_count": 48,
     "metadata": {},
     "output_type": "execute_result"
    },
    {
     "data": {
      "image/png": "[encoded data removed]",
      "text/plain": [
       "<Figure size 432x288 with 1 Axes>"
      ]
     },
     "metadata": {
      "needs_background": "light"
     },
     "output_type": "display_data"
    }
   ],
   "source": [
    "plt.plot(h.history['acc'])\n",
    "plt.xlabel('epoch')\n",
    "plt.legend(['accuracy'])\n",
    "plt.title('accuracy')"
   ]
  },
  {
   "cell_type": "code",
   "execution_count": null,
   "metadata": {},
   "outputs": [],
   "source": []
  }
 ],
 "metadata": {
  "kernelspec": {
   "display_name": "Python 3",
   "language": "python",
   "name": "python3"
  },
  "language_info": {
   "codemirror_mode": {
    "name": "ipython",
    "version": 3
   },
   "file_extension": ".py",
   "mimetype": "text/x-python",
   "name": "python",
   "nbconvert_exporter": "python",
   "pygments_lexer": "ipython3",
   "version": "3.7.3"
  }
 },
 "nbformat": 4,
 "nbformat_minor": 2
}
